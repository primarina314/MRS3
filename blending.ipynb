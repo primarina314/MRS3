{
 "cells": [
  {
   "cell_type": "markdown",
   "id": "cd74f66a",
   "metadata": {},
   "source": [
    "# About blending\n",
    "\n",
    "여기에 블렌딩 작업"
   ]
  },
  {
   "cell_type": "code",
   "execution_count": null,
   "id": "566ffee3",
   "metadata": {},
   "outputs": [],
   "source": []
  }
 ],
 "metadata": {
  "language_info": {
   "name": "python"
  }
 },
 "nbformat": 4,
 "nbformat_minor": 5
}
