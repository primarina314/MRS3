{
 "cells": [
  {
   "cell_type": "markdown",
   "id": "ada0aa86",
   "metadata": {},
   "source": [
    "여기에 블렌딩 관련 작업"
   ]
  },
  {
   "cell_type": "code",
   "execution_count": 1,
   "id": "27769fc9",
   "metadata": {},
   "outputs": [
    {
     "name": "stdout",
     "output_type": "stream",
     "text": [
      "4.11.0\n"
     ]
    }
   ],
   "source": [
    "# from laptop w/o gpu\n",
    "import numpy as np\n",
    "import cv2\n",
    "import time\n",
    "import os\n",
    "from enum import Enum\n",
    "import matplotlib.pyplot as plt\n",
    "from collections import defaultdict\n",
    "from PIL import Image\n",
    "from utils import *\n",
    "\n",
    "print(cv2.__version__)"
   ]
  },
  {
   "cell_type": "markdown",
   "id": "ef22785f",
   "metadata": {},
   "source": [
    "# 경계 블렌딩\n",
    "\n",
    "우선 아래 방법 적용하지 않은 상태로 구현\n",
    "\n",
    "- 원본 파트에서 경계에서 떨어진 거리에 따라 블렌딩 비율 다르게\n",
    "- 경계에 가까울수록 downscaled->upscaled 이미지 비율을 높게 잡고\n",
    "- 경계에서 멀어질수록 original part 이미지 비율을 높게 설정하여 블렌딩\n",
    "- 일정 거리 이상으로 멀어지면 100% 원본파트\n",
    "- 선형, sigmoid 등 함수로 interpolation"
   ]
  },
  {
   "cell_type": "code",
   "execution_count": 2,
   "id": "a12014b1",
   "metadata": {},
   "outputs": [],
   "source": [
    "class blend_mode(Enum):\n",
    "    alpha = 0\n",
    "    poisson = 1\n",
    "    laplacian = 2\n",
    "    grad = 3\n",
    "    dl = 4\n",
    "\n",
    "def blending_two_images(src, target, mask, mode = blend_mode.poisson, center = (0, 0)):\n",
    "    match mode:\n",
    "        case blend_mode.alpha:\n",
    "            result = cv2.addWeighted(src, 0.7, target, 0.3, 0, mask=mask)\n",
    "        case blend_mode.poisson:\n",
    "            result = cv2.seamlessClone(\n",
    "                src, target, mask, center, cv2.MIXED_CLONE\n",
    "            )\n",
    "        case blend_mode.laplacian:\n",
    "            # laplacian dist\n",
    "            return\n",
    "        case blend_mode.grad:\n",
    "            # gradient\n",
    "            return\n",
    "        case blend_mode.dl:\n",
    "            # dl model\n",
    "            return\n",
    "\n",
    "    return result"
   ]
  },
  {
   "cell_type": "code",
   "execution_count": 5,
   "id": "732cefc7",
   "metadata": {},
   "outputs": [],
   "source": [
    "img_path = 'Lenna_(test_image).png'\n",
    "\n",
    "# down->upscaled 된거 path\n",
    "# original part path\n"
   ]
  },
  {
   "cell_type": "code",
   "execution_count": null,
   "id": "512e80be",
   "metadata": {},
   "outputs": [],
   "source": []
  }
 ],
 "metadata": {
  "kernelspec": {
   "display_name": "mrs3",
   "language": "python",
   "name": "python3"
  },
  "language_info": {
   "codemirror_mode": {
    "name": "ipython",
    "version": 3
   },
   "file_extension": ".py",
   "mimetype": "text/x-python",
   "name": "python",
   "nbconvert_exporter": "python",
   "pygments_lexer": "ipython3",
   "version": "3.13.2"
  }
 },
 "nbformat": 4,
 "nbformat_minor": 5
}
