{
 "cells": [
  {
   "cell_type": "markdown",
   "id": "ada0aa86",
   "metadata": {},
   "source": [
    "여기에 블렌딩 관련 작업"
   ]
  },
  {
   "cell_type": "code",
   "execution_count": 3,
   "id": "e1607c7d",
   "metadata": {},
   "outputs": [
    {
     "name": "stdout",
     "output_type": "stream",
     "text": [
      "0.9.0\n",
      "2.15.0\n",
      "[PhysicalDevice(name='/physical_device:GPU:0', device_type='GPU')]\n",
      "4.12.0-dev\n",
      "1\n",
      "2.15.0\n",
      "[name: \"/device:CPU:0\"\n",
      "device_type: \"CPU\"\n",
      "memory_limit: 268435456\n",
      "locality {\n",
      "}\n",
      "incarnation: 10311214877716712192\n",
      "xla_global_id: -1\n",
      ", name: \"/device:GPU:0\"\n",
      "device_type: \"GPU\"\n",
      "memory_limit: 10177478656\n",
      "locality {\n",
      "  bus_id: 1\n",
      "  links {\n",
      "  }\n",
      "}\n",
      "incarnation: 13567830665886237086\n",
      "physical_device_desc: \"device: 0, name: NVIDIA GeForce RTX 3060, pci bus id: 0000:01:00.0, compute capability: 8.6\"\n",
      "xla_global_id: 416903419\n",
      "]\n",
      "\n",
      "General configuration for OpenCV 4.12.0-dev =====================================\n",
      "  Version control:               4.11.0-356-g325e59bd4c\n",
      "\n",
      "  Extra modules:\n",
      "    Location (extra):            /home/primarina314/opencv_contrib/modules\n",
      "    Version control (extra):     4.11.0-42-gacd145f4\n",
      "\n",
      "  Platform:\n",
      "    Timestamp:                   2025-04-28T09:41:11Z\n",
      "    Host:                        Linux 5.15.167.4-microsoft-standard-WSL2 x86_64\n",
      "    CMake:                       3.31.2\n",
      "    CMake generator:             Unix Makefiles\n",
      "    CMake build tool:            /usr/bin/gmake\n",
      "    Configuration:               RELEASE\n",
      "    Algorithm Hint:              ALGO_HINT_ACCURATE\n",
      "\n",
      "  CPU/HW features:\n",
      "    Baseline:                    SSE SSE2 SSE3\n",
      "      requested:                 SSE3\n",
      "    Dispatched code generation:  SSE4_1 SSE4_2 AVX FP16 AVX2 AVX512_SKX\n",
      "      SSE4_1 (19 files):         + SSSE3 SSE4_1\n",
      "      SSE4_2 (2 files):          + SSSE3 SSE4_1 POPCNT SSE4_2\n",
      "      AVX (10 files):            + SSSE3 SSE4_1 POPCNT SSE4_2 AVX\n",
      "      FP16 (1 files):            + SSSE3 SSE4_1 POPCNT SSE4_2 AVX FP16\n",
      "      AVX2 (39 files):           + SSSE3 SSE4_1 POPCNT SSE4_2 AVX FP16 AVX2 FMA3\n",
      "      AVX512_SKX (8 files):      + SSSE3 SSE4_1 POPCNT SSE4_2 AVX FP16 AVX2 FMA3 AVX_512F AVX512_COMMON AVX512_SKX\n",
      "\n",
      "  C/C++:\n",
      "    Built as dynamic libs?:      YES\n",
      "    C++ standard:                11\n",
      "    C++ Compiler:                /usr/bin/c++  (ver 11.4.0)\n",
      "    C++ flags (Release):         -fsigned-char -ffast-math -fno-finite-math-only -W -Wall -Wreturn-type -Wnon-virtual-dtor -Waddress -Wsequence-point -Wformat -Wformat-security -Wmissing-declarations -Wundef -Winit-self -Wpointer-arith -Wshadow -Wsign-promo -Wuninitialized -Wsuggest-override -Wno-delete-non-virtual-dtor -Wno-comment -Wimplicit-fallthrough=3 -Wno-strict-overflow -fdiagnostics-show-option -pthread -fomit-frame-pointer -ffunction-sections -fdata-sections  -msse3 -fvisibility=hidden -fvisibility-inlines-hidden -O3 -DNDEBUG  -DNDEBUG\n",
      "    C++ flags (Debug):           -fsigned-char -ffast-math -fno-finite-math-only -W -Wall -Wreturn-type -Wnon-virtual-dtor -Waddress -Wsequence-point -Wformat -Wformat-security -Wmissing-declarations -Wundef -Winit-self -Wpointer-arith -Wshadow -Wsign-promo -Wuninitialized -Wsuggest-override -Wno-delete-non-virtual-dtor -Wno-comment -Wimplicit-fallthrough=3 -Wno-strict-overflow -fdiagnostics-show-option -pthread -fomit-frame-pointer -ffunction-sections -fdata-sections  -msse3 -fvisibility=hidden -fvisibility-inlines-hidden -g  -O0 -DDEBUG -D_DEBUG\n",
      "    C Compiler:                  /usr/bin/cc\n",
      "    C flags (Release):           -fsigned-char -ffast-math -fno-finite-math-only -W -Wall -Wreturn-type -Waddress -Wsequence-point -Wformat -Wformat-security -Wmissing-declarations -Wmissing-prototypes -Wstrict-prototypes -Wundef -Winit-self -Wpointer-arith -Wshadow -Wuninitialized -Wno-comment -Wimplicit-fallthrough=3 -Wno-strict-overflow -fdiagnostics-show-option -pthread -fomit-frame-pointer -ffunction-sections -fdata-sections  -msse3 -fvisibility=hidden -O3 -DNDEBUG  -DNDEBUG\n",
      "    C flags (Debug):             -fsigned-char -ffast-math -fno-finite-math-only -W -Wall -Wreturn-type -Waddress -Wsequence-point -Wformat -Wformat-security -Wmissing-declarations -Wmissing-prototypes -Wstrict-prototypes -Wundef -Winit-self -Wpointer-arith -Wshadow -Wuninitialized -Wno-comment -Wimplicit-fallthrough=3 -Wno-strict-overflow -fdiagnostics-show-option -pthread -fomit-frame-pointer -ffunction-sections -fdata-sections  -msse3 -fvisibility=hidden -g  -O0 -DDEBUG -D_DEBUG\n",
      "    Linker flags (Release):      -Wl,--exclude-libs,libippicv.a -Wl,--exclude-libs,libippiw.a   -Wl,--gc-sections -Wl,--as-needed -Wl,--no-undefined  \n",
      "    Linker flags (Debug):        -Wl,--exclude-libs,libippicv.a -Wl,--exclude-libs,libippiw.a   -Wl,--gc-sections -Wl,--as-needed -Wl,--no-undefined  \n",
      "    ccache:                      NO\n",
      "    Precompiled headers:         NO\n",
      "    Extra dependencies:          m pthread cudart_static dl rt nppc nppial nppicc nppidei nppif nppig nppim nppist nppisu nppitc npps cublas cudnn cufft -L/usr/local/cuda-12.2/lib64 -L/usr/lib/x86_64-linux-gnu\n",
      "    3rdparty dependencies:\n",
      "\n",
      "  OpenCV modules:\n",
      "    To be built:                 aruco bgsegm bioinspired calib3d ccalib core cudaarithm cudabgsegm cudacodec cudafeatures2d cudafilters cudaimgproc cudalegacy cudaobjdetect cudaoptflow cudastereo cudawarping cudev datasets dnn dnn_objdetect dnn_superres dpm face features2d flann freetype fuzzy gapi hfs highgui img_hash imgcodecs imgproc intensity_transform line_descriptor mcc ml objdetect optflow phase_unwrapping photo plot python3 quality rapid reg rgbd saliency shape signal stereo stitching structured_light superres surface_matching text tracking ts video videoio videostab wechat_qrcode xfeatures2d ximgproc xobjdetect xphoto\n",
      "    Disabled:                    world\n",
      "    Disabled by dependency:      -\n",
      "    Unavailable:                 alphamat cannops cvv fastcv hdf java julia matlab ovis python2 sfm viz\n",
      "    Applications:                tests perf_tests apps\n",
      "    Documentation:               NO\n",
      "    Non-free algorithms:         NO\n",
      "\n",
      "  GUI:                           GTK2\n",
      "    GTK+:                        YES (ver 2.24.33)\n",
      "      GtkGlExt:                  NO\n",
      "    VTK support:                 NO\n",
      "\n",
      "  Media I/O: \n",
      "    ZLib:                        /usr/lib/x86_64-linux-gnu/libz.so (ver 1.2.11)\n",
      "    JPEG:                        /usr/lib/x86_64-linux-gnu/libjpeg.so (ver 80)\n",
      "    WEBP:                        build (ver decoder: 0x0209, encoder: 0x020f, demux: 0x0107)\n",
      "    AVIF:                        NO\n",
      "    PNG:                         /usr/lib/x86_64-linux-gnu/libpng.so (ver 1.6.37)\n",
      "    TIFF:                        build (ver 42 - 4.6.0)\n",
      "    JPEG 2000:                   build (ver 2.5.3)\n",
      "    OpenEXR:                     build (ver 2.3.0)\n",
      "    GIF:                         NO\n",
      "    HDR:                         YES\n",
      "    SUNRASTER:                   YES\n",
      "    PXM:                         YES\n",
      "    PFM:                         YES\n",
      "\n",
      "  Video I/O:\n",
      "    FFMPEG:                      NO\n",
      "      avcodec:                   NO\n",
      "      avformat:                  NO\n",
      "      avutil:                    NO\n",
      "      swscale:                   NO\n",
      "      avresample:                NO\n",
      "    GStreamer:                   NO\n",
      "    v4l/v4l2:                    YES (linux/videodev2.h)\n",
      "\n",
      "  Parallel framework:            pthreads\n",
      "\n",
      "  Trace:                         YES (with Intel ITT(3.25.4))\n",
      "\n",
      "  Other third-party libraries:\n",
      "    Intel IPP:                   2022.0.0 [2022.0.0]\n",
      "           at:                   /home/primarina314/opencv/build/3rdparty/ippicv/ippicv_lnx/icv\n",
      "    Intel IPP IW:                sources (2022.0.0)\n",
      "              at:                /home/primarina314/opencv/build/3rdparty/ippicv/ippicv_lnx/iw\n",
      "    VA:                          NO\n",
      "    Lapack:                      NO\n",
      "    Eigen:                       NO\n",
      "    Custom HAL:                  YES (ipp (ver 0.0.1))\n",
      "    Protobuf:                    build (3.19.1)\n",
      "    Flatbuffers:                 builtin/3rdparty (23.5.9)\n",
      "\n",
      "  NVIDIA CUDA:                   YES (ver 12.2, CUFFT CUBLAS FAST_MATH)\n",
      "    NVIDIA GPU arch:             86\n",
      "    NVIDIA PTX archs:\n",
      "\n",
      "  cuDNN:                         YES (ver 8.9.7)\n",
      "\n",
      "  OpenCL:                        YES (no extra features)\n",
      "    Include path:                /home/primarina314/opencv/3rdparty/include/opencl/1.2\n",
      "    Link libraries:              Dynamic load\n",
      "\n",
      "  Python 3:\n",
      "    Interpreter:                 /home/primarina314/anaconda3/envs/mrs3/bin/python (ver 3.11.11)\n",
      "    Libraries:                   /home/primarina314/anaconda3/envs/mrs3/lib/libpython3.11.so (ver 3.11.11)\n",
      "    Limited API:                 NO\n",
      "    numpy:                       /home/primarina314/anaconda3/envs/mrs3/lib/python3.11/site-packages/numpy/core/include (ver 1.26.4)\n",
      "    install path:                lib/python3.11/site-packages/cv2/python-3.11\n",
      "\n",
      "  Python (for build):            /home/primarina314/anaconda3/envs/mrs3/bin/python\n",
      "\n",
      "  Java:                          \n",
      "    ant:                         NO\n",
      "    Java:                        NO\n",
      "    JNI:                         NO\n",
      "    Java wrappers:               NO\n",
      "    Java tests:                  NO\n",
      "\n",
      "  Install to:                    /home/primarina314/anaconda3/envs/mrs3\n",
      "-----------------------------------------------------------------\n",
      "\n",
      "\n",
      "The autoreload extension is already loaded. To reload it, use:\n",
      "  %reload_ext autoreload\n"
     ]
    },
    {
     "name": "stderr",
     "output_type": "stream",
     "text": [
      "2025-05-12 01:12:47.280173: I external/local_xla/xla/stream_executor/cuda/cuda_executor.cc:887] could not open file to read NUMA node: /sys/bus/pci/devices/0000:01:00.0/numa_node\n",
      "Your kernel may have been built without NUMA support.\n",
      "2025-05-12 01:12:47.280241: I external/local_xla/xla/stream_executor/cuda/cuda_executor.cc:887] could not open file to read NUMA node: /sys/bus/pci/devices/0000:01:00.0/numa_node\n",
      "Your kernel may have been built without NUMA support.\n",
      "2025-05-12 01:12:47.280263: I external/local_xla/xla/stream_executor/cuda/cuda_executor.cc:887] could not open file to read NUMA node: /sys/bus/pci/devices/0000:01:00.0/numa_node\n",
      "Your kernel may have been built without NUMA support.\n",
      "2025-05-12 01:12:47.280477: I external/local_xla/xla/stream_executor/cuda/cuda_executor.cc:887] could not open file to read NUMA node: /sys/bus/pci/devices/0000:01:00.0/numa_node\n",
      "Your kernel may have been built without NUMA support.\n",
      "2025-05-12 01:12:47.280493: I tensorflow/core/common_runtime/gpu/gpu_device.cc:2022] Could not identify NUMA node of platform GPU id 0, defaulting to 0.  Your kernel may not have been built with NUMA support.\n",
      "2025-05-12 01:12:47.280515: I external/local_xla/xla/stream_executor/cuda/cuda_executor.cc:887] could not open file to read NUMA node: /sys/bus/pci/devices/0000:01:00.0/numa_node\n",
      "Your kernel may have been built without NUMA support.\n",
      "2025-05-12 01:12:47.280527: I tensorflow/core/common_runtime/gpu/gpu_device.cc:1929] Created device /device:GPU:0 with 9706 MB memory:  -> device: 0, name: NVIDIA GeForce RTX 3060, pci bus id: 0000:01:00.0, compute capability: 8.6\n"
     ]
    }
   ],
   "source": [
    "# from desktop w/ gpu\n",
    "import tensorflow as tf\n",
    "import numpy as np\n",
    "import cv2\n",
    "import time\n",
    "import os\n",
    "from enum import Enum\n",
    "import keras_cv\n",
    "import keras\n",
    "import matplotlib.pyplot as plt\n",
    "# from utils import *\n",
    "from multipledispatch import dispatch\n",
    "import mrs3 as mr\n",
    "import interpolation as inter\n",
    "\n",
    "print(keras_cv.__version__)\n",
    "print(keras.__version__)\n",
    "\n",
    "print(tf.config.list_physical_devices('GPU'))\n",
    "print(cv2.__version__)\n",
    "print(cv2.cuda.getCudaEnabledDeviceCount())\n",
    "print(tf.__version__)\n",
    "\n",
    "from tensorflow.python.client import device_lib\n",
    "\n",
    "print(device_lib.list_local_devices() )\n",
    "print(cv2.getBuildInformation())\n",
    "\n",
    "%load_ext autoreload\n",
    "%autoreload 2\n",
    "\n",
    "\n",
    "lenna_path = 'Lenna_(test_image).png'\n"
   ]
  },
  {
   "cell_type": "code",
   "execution_count": 1,
   "id": "27769fc9",
   "metadata": {},
   "outputs": [
    {
     "name": "stdout",
     "output_type": "stream",
     "text": [
      "4.12.0-dev\n"
     ]
    }
   ],
   "source": [
    "# from laptop w/o gpu\n",
    "import numpy as np\n",
    "import cv2\n",
    "import time\n",
    "import os\n",
    "from enum import Enum\n",
    "import matplotlib.pyplot as plt\n",
    "from collections import defaultdict\n",
    "from PIL import Image\n",
    "from utils import *\n",
    "\n",
    "print(cv2.__version__)\n",
    "\n",
    "%load_ext autoreload\n",
    "%autoreload 2"
   ]
  },
  {
   "cell_type": "code",
   "execution_count": 9,
   "id": "d19d7ae1",
   "metadata": {},
   "outputs": [
    {
     "name": "stdout",
     "output_type": "stream",
     "text": [
      "original file: 864398\n",
      "downscaled filesize: 219310\n",
      "roi filesize: 70813\n",
      "roi bin filesize: 1167\n",
      "config filesize: 152\n",
      "compression ratio: 0.3371618166631575\n"
     ]
    }
   ],
   "source": [
    "mr.compress_img_mult_tgs('sample-images-png/1920x1080.png', 'results', 4, 0)"
   ]
  },
  {
   "cell_type": "code",
   "execution_count": 10,
   "id": "b42c0944",
   "metadata": {},
   "outputs": [],
   "source": [
    "mr.restore_img_mult_tgs('results', mr.EDSR, 'results2')"
   ]
  },
  {
   "cell_type": "markdown",
   "id": "ef22785f",
   "metadata": {},
   "source": [
    "# 경계 블렌딩\n",
    "\n",
    "우선 아래 방법 적용하지 않은 상태로 구현\n",
    "\n",
    "- 원본 파트에서 경계에서 떨어진 거리에 따라 블렌딩 비율 다르게\n",
    "- 경계에 가까울수록 downscaled->upscaled 이미지 비율을 높게 잡고\n",
    "- 경계에서 멀어질수록 original part 이미지 비율을 높게 설정하여 블렌딩\n",
    "- 일정 거리 이상으로 멀어지면 100% 원본파트\n",
    "- 선형, sigmoid 등 함수로 interpolation\n",
    "- roi 선택 시에 각 좌표를 모두 저장 -> 좌표를 바탕으로 거리 계산 -> 곡선형태로 저장할 수도 있으므로 더 광범위하게 적용가능한 findContour 함수로 처리하는게 나을듯"
   ]
  },
  {
   "cell_type": "code",
   "execution_count": 2,
   "id": "a12014b1",
   "metadata": {},
   "outputs": [],
   "source": [
    "class blend_mode(Enum):\n",
    "    alpha = 0\n",
    "    poisson = 1\n",
    "    laplacian = 2\n",
    "    grad = 3\n",
    "    dl = 4\n",
    "\n",
    "def blending_two_images(src, target, mask, mode = blend_mode.poisson, center = (0, 0)):\n",
    "    match mode:\n",
    "        case blend_mode.alpha:\n",
    "            result = cv2.addWeighted(src, 0.7, target, 0.3, 0, mask=mask)\n",
    "        case blend_mode.poisson:\n",
    "            result = cv2.seamlessClone(\n",
    "                src, target, mask, center, cv2.MIXED_CLONE\n",
    "            )\n",
    "        case blend_mode.laplacian:\n",
    "            # laplacian dist\n",
    "            return\n",
    "        case blend_mode.grad:\n",
    "            # gradient\n",
    "            return\n",
    "        case blend_mode.dl:\n",
    "            # dl model\n",
    "            return\n",
    "\n",
    "    return result"
   ]
  },
  {
   "cell_type": "code",
   "execution_count": 3,
   "id": "732cefc7",
   "metadata": {},
   "outputs": [],
   "source": [
    "img_path = 'Lenna_(test_image).png'\n",
    "\n",
    "# down->upscaled 된거 path\n",
    "# original part path\n",
    "\n",
    "output_path = 'blending-test'\n",
    "\n",
    "# 블렌딩"
   ]
  },
  {
   "cell_type": "code",
   "execution_count": 36,
   "id": "68af455d",
   "metadata": {},
   "outputs": [
    {
     "name": "stdout",
     "output_type": "stream",
     "text": [
      "cropped target: (419, 388, 3)\n",
      "cropped mask: (419, 388)\n"
     ]
    }
   ],
   "source": [
    "import mrs3 as mr\n",
    "roi, _ = mr._select_polygon_roi(img_path)\n",
    "mask = np.all(roi != [0, 0, 0], axis=2)\n",
    "mask_uint8 = mask.astype(np.uint8) * 255"
   ]
  },
  {
   "cell_type": "code",
   "execution_count": 94,
   "id": "5ad6bc35",
   "metadata": {},
   "outputs": [
    {
     "name": "stdout",
     "output_type": "stream",
     "text": [
      "(1319, 1, 2)\n",
      "[[ 8  0]\n",
      " [ 8  1]\n",
      " [ 9  2]\n",
      " ...\n",
      " [11  1]\n",
      " [10  1]\n",
      " [ 9  0]]\n",
      "(1319, 2)\n"
     ]
    }
   ],
   "source": [
    "contours, _ = cv2.findContours(mask_uint8, cv2.RETR_EXTERNAL, cv2.CHAIN_APPROX_SIMPLE)\n",
    "# print(contours)\n",
    "print(contours[0].shape)\n",
    "print(contours[0].reshape(-1, 2))\n",
    "print(contours[0].reshape(-1, 2).shape)"
   ]
  },
  {
   "cell_type": "code",
   "execution_count": 40,
   "id": "ef6cf193",
   "metadata": {},
   "outputs": [
    {
     "name": "stdout",
     "output_type": "stream",
     "text": [
      "(419, 388)\n",
      "(419, 388)\n",
      "162572\n",
      "0\n"
     ]
    }
   ],
   "source": [
    "polygon = contours[0].reshape(-1, 2)\n",
    "test = np.zeros(mask_uint8.shape[:2], dtype=np.uint8)\n",
    "cv2.fillPoly(test, [np.array(polygon)], 255)\n",
    "\n",
    "print(mask_uint8.shape)\n",
    "print(test.shape)\n",
    "\n",
    "same = 0\n",
    "diff = 0\n",
    "\n",
    "for i in range(len(mask_uint8)):\n",
    "    for j in range(len(mask_uint8[i])):\n",
    "        if mask_uint8[i][j] == test[i][j]:\n",
    "            same += 1\n",
    "        else:\n",
    "            diff += 1\n",
    "\n",
    "print(same)\n",
    "print(diff)\n"
   ]
  },
  {
   "cell_type": "code",
   "execution_count": null,
   "id": "866feb34",
   "metadata": {},
   "outputs": [],
   "source": [
    "cv2.imshow('test', test)\n",
    "cv2.waitKey(0)\n",
    "\n",
    "cv2.imshow('mask', mask_uint8)\n",
    "cv2.waitKey(0)\n",
    "\n",
    "cv2.destroyAllWindows()\n"
   ]
  },
  {
   "cell_type": "code",
   "execution_count": 9,
   "id": "76e1e08f",
   "metadata": {},
   "outputs": [
    {
     "data": {
      "text/plain": [
       "True"
      ]
     },
     "execution_count": 9,
     "metadata": {},
     "output_type": "execute_result"
    }
   ],
   "source": [
    "cv2.imwrite('bin-img.png', mask_uint8, [cv2.IMWRITE_PNG_COMPRESSION, 9, cv2.IMWRITE_PNG_BILEVEL, 1])\n",
    "cv2.imwrite('bin-img.jpeg', mask_uint8)\n",
    "cv2.imwrite('roi-test.png', roi, [cv2.IMWRITE_PNG_COMPRESSION, 9])"
   ]
  },
  {
   "cell_type": "code",
   "execution_count": 10,
   "id": "7954099d",
   "metadata": {},
   "outputs": [
    {
     "name": "stdout",
     "output_type": "stream",
     "text": [
      "584\n",
      "41974\n",
      "473831\n"
     ]
    }
   ],
   "source": [
    "print(os.path.getsize('bin-img.png'))\n",
    "print(os.path.getsize('roi-test.png'))\n",
    "\n",
    "print(os.path.getsize('Lenna_(test_image).png'))"
   ]
  },
  {
   "cell_type": "code",
   "execution_count": 15,
   "id": "5d72ce68",
   "metadata": {},
   "outputs": [],
   "source": [
    "cv2.imshow('test', mask_uint8)\n",
    "cv2.waitKey(0)\n",
    "cv2.destroyAllWindows()"
   ]
  },
  {
   "cell_type": "code",
   "execution_count": null,
   "id": "bafd158d",
   "metadata": {},
   "outputs": [],
   "source": [
    "\n",
    "\n",
    "def point_line_distance(point, line_start, line_end):\n",
    "    \"\"\"\n",
    "    점과 선분 사이의 최소 수직거리 계산\n",
    "    point: (x, y) 튜플\n",
    "    line_start, line_end: 선분의 두 끝점 (x, y) 튜플\n",
    "    \"\"\"\n",
    "    px, py = point\n",
    "    x1, y1 = line_start\n",
    "    x2, y2 = line_end\n",
    "\n",
    "    # 선분 벡터\n",
    "    line_vec = np.array([x2 - x1, y2 - y1])\n",
    "    # 점과 선분 시작점 벡터\n",
    "    point_vec = np.array([px - x1, py - y1])\n",
    "\n",
    "    line_len_sq = np.dot(line_vec, line_vec)\n",
    "    if line_len_sq == 0:\n",
    "        # 선분이 점인 경우\n",
    "        return np.linalg.norm(point_vec)\n",
    "\n",
    "    # 점에서 선분으로의 투영 비율\n",
    "    t = np.dot(point_vec, line_vec) / line_len_sq\n",
    "\n",
    "    if t < 0.0:\n",
    "        # 투영점이 선분 시작점 밖에 있는 경우\n",
    "        closest_point = np.array([x1, y1])\n",
    "    elif t > 1.0:\n",
    "        # 투영점이 선분 끝점 밖에 있는 경우\n",
    "        closest_point = np.array([x2, y2])\n",
    "    else:\n",
    "        # 투영점이 선분 위에 있는 경우\n",
    "        closest_point = np.array([x1, y1]) + t * line_vec\n",
    "\n",
    "    # 점과 가장 가까운 점 사이 거리\n",
    "    dist = np.linalg.norm(np.array([px, py]) - closest_point)\n",
    "    return dist\n",
    "\n",
    "def is_point_inside_polygon(point, polygon):\n",
    "    \"\"\"\n",
    "    점이 다각형 내부에 있는지 확인 (Ray casting algorithm)\n",
    "    point: (x, y) 튜플\n",
    "    polygon: 다각형 꼭짓점 좌표 배열 [(x1,y1), (x2,y2), ...]\n",
    "    \"\"\"\n",
    "    x, y = point\n",
    "    n = len(polygon)\n",
    "    inside = False\n",
    "    \n",
    "    p1x, p1y = polygon[0]\n",
    "    for i in range(n + 1):\n",
    "        p2x, p2y = polygon[i % n]\n",
    "        if y > min(p1y, p2y):\n",
    "            if y <= max(p1y, p2y):\n",
    "                if x <= max(p1x, p2x):\n",
    "                    if p1y != p2y:\n",
    "                        xinters = (y - p1y) * (p2x - p1x) / (p2y - p1y) + p1x\n",
    "                    if p1x == p2x or x <= xinters:\n",
    "                        inside = not inside\n",
    "        p1x, p1y = p2x, p2y\n",
    "    \n",
    "    return inside\n",
    "\n",
    "# class \n",
    "\n",
    "\n",
    "def distance_to_polygon_edge_from_mask(mask, point):\n",
    "    \"\"\"\n",
    "    mask: 2D numpy array, 다각형 영역이 1(또는 255), 배경이 0인 바이너리 마스크\n",
    "    point: (x, y) 튜플, 기준점 좌표\n",
    "\n",
    "    반환값: point에서 다각형 경계까지의 최소 수직거리 (float)\n",
    "    \"\"\"\n",
    "    # 마스크를 바이너리(0 또는 255)로 변환\n",
    "    mask_bin = (mask > 0).astype(np.uint8) * 255\n",
    "\n",
    "    # 다각형 외곽선(경계) 검출\n",
    "    contours, _ = cv2.findContours(mask_bin, cv2.RETR_EXTERNAL, cv2.CHAIN_APPROX_SIMPLE)\n",
    "    if len(contours) == 0:\n",
    "        return None  # 다각형이 없는 경우\n",
    "    \n",
    "    # 다각형 꼭짓점 좌표 추출\n",
    "    polygon = contours[0].reshape(-1, 2)\n",
    "\n",
    "    # 점이 다각형 내부에 있는지 확인\n",
    "    inside = is_point_inside_polygon(point, polygon)\n",
    "\n",
    "    min_dist = float('inf')\n",
    "    for contour in contours:\n",
    "        pts = contour.reshape(-1, 2)\n",
    "        n = len(pts)\n",
    "        for i in range(n):\n",
    "            start = tuple(pts[i])\n",
    "            end = tuple(pts[(i + 1) % n])\n",
    "            dist = point_line_distance(point, start, end)\n",
    "            if dist < min_dist:\n",
    "                min_dist = dist\n",
    "\n",
    "    return min_dist if inside else -min_dist\n",
    "\n",
    "def distance_to_polygon_edge_from_contours(contours, point):\n",
    "    \"\"\"\n",
    "    point: (x, y) 튜플, 기준점 좌표\n",
    "    contours: contours 튜플(vertices). cv2.findContours 의 0번째 컴포넌트\n",
    "    반환값: point에서 다각형 경계까지의 최소 수직거리 (float) - 부호 고려\n",
    "    \"\"\"\n",
    "\n",
    "    if len(contours) == 0:\n",
    "        return None  # 다각형이 없는 경우\n",
    "    \n",
    "    # 다각형 꼭짓점 좌표 추출\n",
    "    polygon = contours[0].reshape(-1, 2)\n",
    "\n",
    "    # 점이 다각형 내부에 있는지 확인\n",
    "    inside = is_point_inside_polygon(point, polygon)\n",
    "\n",
    "    min_dist = float('inf')\n",
    "    for contour in contours:\n",
    "        pts = contour.reshape(-1, 2)\n",
    "        n = len(pts)\n",
    "        for i in range(n):\n",
    "            start = tuple(pts[i])\n",
    "            end = tuple(pts[(i + 1) % n])\n",
    "            dist = point_line_distance(point, start, end)\n",
    "            if dist < min_dist:\n",
    "                min_dist = dist\n",
    "    return min_dist if inside else -min_dist\n",
    "\n",
    "# 사용 예시\n",
    "# mask = np.zeros((200, 200), dtype=np.uint8)\n",
    "# polygon = np.array([[50, 50], [150, 50], [150, 150], [50, 150]])\n",
    "# cv2.fillPoly(mask, [polygon], 255)\n",
    "\n",
    "# point = (100, 100)  # 예시 기준점\n",
    "# distance = distance_to_polygon_edge(mask, point)\n",
    "# print(f\"Distance from point {point} to polygon edge: {distance}\")\n"
   ]
  },
  {
   "cell_type": "code",
   "execution_count": 8,
   "id": "4dd97249",
   "metadata": {},
   "outputs": [
    {
     "name": "stdout",
     "output_type": "stream",
     "text": [
      "distance from (73, 92) to edge: 43.04648650006177\n",
      "distance from (40, 22) to edge: -33.54101966249684\n",
      "distance from (64, 49) to edge: 1.0\n",
      "distance from (42, 51) to edge: -7.211102550927978\n",
      "distance from (42, 55) to edge: -3.605551275463989\n",
      "distance from (42, 57) to edge: -2.0\n",
      "distance from (39, 65) to edge: 3.605551275463989\n",
      "distance from (34, 64) to edge: 0.7071067811865476\n",
      "distance from (69, 107) to edge: 54.56189146281496\n",
      "distance from (3, 29) to edge: -44.721359549995796\n",
      "distance from (85, 124) to edge: 38.01315561749642\n",
      "distance from (29, 31) to edge: -30.870698080866262\n",
      "distance from (79, 110) to edge: 47.853944456021594\n",
      "distance from (72, 90) to edge: 40.8166632639171\n",
      "distance from (90, 77) to edge: 34.713109915419565\n"
     ]
    }
   ],
   "source": [
    "# dist = distance_to_polygon_edge(mask, (100, 100))\n",
    "# print(dist)\n",
    "mask_bin = (mask > 0).astype(np.uint8) * 255\n",
    "\n",
    "contours, _ = cv2.findContours(mask_bin, cv2.RETR_EXTERNAL, cv2.CHAIN_APPROX_SIMPLE)\n",
    "\n",
    "def check_dist(event, x, y, flags, param):\n",
    "    if event == cv2.EVENT_LBUTTONDOWN:\n",
    "        # dist = distance_to_polygon_edge_from_mask(mask, (x, y))\n",
    "        dist = distance_to_polygon_edge_from_contours(contours, (x, y))\n",
    "        print(f\"distance from ({x}, {y}) to edge: {dist}\")\n",
    "\n",
    "cv2.namedWindow(\"test\")\n",
    "cv2.setMouseCallback(\"test\", check_dist)\n",
    "\n",
    "cv2.imshow('test', mask_uint8)\n",
    "\n",
    "clicking = True\n",
    "while True:\n",
    "    key = cv2.waitKey(1)\n",
    "    if key == 27:\n",
    "        break\n",
    "\n",
    "cv2.destroyAllWindows()"
   ]
  },
  {
   "cell_type": "code",
   "execution_count": null,
   "id": "512e80be",
   "metadata": {},
   "outputs": [
    {
     "name": "stdout",
     "output_type": "stream",
     "text": [
      "original file: 473831\n",
      "downscaled filesize: 35816\n",
      "roi filesize: 27504\n",
      "config filesize: 97\n",
      "compression ratio: 0.1338388581582885\n"
     ]
    }
   ],
   "source": [
    "mrs3_compress(img_path, output_path, 4, ROI_mode.Polygon)\n"
   ]
  },
  {
   "cell_type": "code",
   "execution_count": 6,
   "id": "6e2dc65d",
   "metadata": {},
   "outputs": [],
   "source": [
    "mrs3_restore('qwergfhfghgfhgfg', MRS3_mode.edsr, 'qwergfhfghgfhgfg/restored.png')"
   ]
  },
  {
   "cell_type": "code",
   "execution_count": 7,
   "id": "ae501832",
   "metadata": {},
   "outputs": [],
   "source": [
    "def distance_to_polygon_edge(mask, point):\n",
    "    \"\"\"\n",
    "    mask: 2D numpy array, polygon 영역이 1(또는 255), 배경이 0인 바이너리 마스크\n",
    "    point: (x, y) 튜플, 기준점 좌표\n",
    "\n",
    "    반환값: point에서 다각형 경계까지의 최단 거리 (float)\n",
    "    \"\"\"\n",
    "    # 마스크를 바이너리(0 또는 255)로 변환\n",
    "    mask_bin = (mask > 0).astype(np.uint8) * 255\n",
    "\n",
    "    # 다각형 외곽선(경계) 검출\n",
    "    contours, _ = cv2.findContours(mask_bin, cv2.RETR_EXTERNAL, cv2.CHAIN_APPROX_SIMPLE)\n",
    "    if len(contours) == 0:\n",
    "        return None  # 다각형이 없는 경우\n",
    "\n",
    "    # 모든 경계점에 대해 거리 계산, 최솟값 반환\n",
    "    min_dist = float('inf')\n",
    "    for contour in contours:\n",
    "        for pt in contour:\n",
    "            dist = np.linalg.norm(np.array(pt[0]) - np.array(point))\n",
    "            if dist < min_dist:\n",
    "                min_dist = dist\n",
    "\n",
    "    return min_dist\n",
    "\n",
    "# 사용 예시\n",
    "# mask: 다각형이 그려진 바이너리 마스크 (예: 200x200, 가운데 사각형)\n",
    "# mask = np.zeros((200, 200), dtype=np.uint8)\n",
    "# polygon = np.array([[50, 50], [150, 50], [150, 150], [50, 150]])\n",
    "# cv2.fillPoly(mask, [polygon], 255)\n",
    "\n",
    "# point = (100, 100)  # 예시 기준점\n",
    "\n",
    "# distance = distance_to_polygon_edge(mask, point)\n",
    "# print(f\"Distance from point {point} to polygon edge: {distance}\")\n"
   ]
  },
  {
   "cell_type": "code",
   "execution_count": 1,
   "id": "f4096a74",
   "metadata": {},
   "outputs": [
    {
     "name": "stdout",
     "output_type": "stream",
     "text": [
      "1\n"
     ]
    }
   ],
   "source": [
    "import interpolation as inter\n",
    "\n",
    "print(inter.hermit_3(6))"
   ]
  },
  {
   "cell_type": "code",
   "execution_count": null,
   "id": "020c0014",
   "metadata": {},
   "outputs": [],
   "source": [
    "class blending_interpolation_mode(Enum):\n",
    "    LINEAR = 0\n",
    "    HERMIT_3 = 1\n",
    "    HERMIT_5 = 2\n",
    "    SINUSOIDAL = 3\n",
    "    EXPONENTIAL = 4\n",
    "    SINH = 5\n",
    "\n",
    "# replace s = (x - a) / (b - a)\n",
    "# f(x) = (x - a) / (b - a)\n",
    "# f(x) = 3x² - 2x³\n",
    "# f(x) = 6x⁵ - 15x⁴ + 10x³\n",
    "# f(x) = (1 - cos(πx)) / 2\n",
    "\n",
    "\n",
    "\n",
    "def get_alpha():\n",
    "\n",
    "    return\n",
    "\n",
    "def blending_with_interpolation():\n",
    "\n",
    "    return"
   ]
  },
  {
   "cell_type": "code",
   "execution_count": 72,
   "id": "2e969ca3",
   "metadata": {},
   "outputs": [],
   "source": [
    "class Person:\n",
    "    def __init__(self, first_name, last_name, age):\n",
    "        self.first_name = first_name\n",
    "        self.last_name = last_name\n",
    "        self.__age = age  # 내부 변수로 저장\n",
    "        \n",
    "    @property\n",
    "    def age(self):\n",
    "        return self.__age\n",
    "    \n",
    "    @age.setter\n",
    "    def age(self, newage):\n",
    "        self.__age = newage\n",
    "\n",
    "\n",
    "p = Person(\"qwer\", \"asdf\", 20)"
   ]
  },
  {
   "cell_type": "code",
   "execution_count": 73,
   "id": "b3972842",
   "metadata": {},
   "outputs": [
    {
     "name": "stdout",
     "output_type": "stream",
     "text": [
      "20\n"
     ]
    }
   ],
   "source": [
    "print(p.age)"
   ]
  },
  {
   "cell_type": "code",
   "execution_count": 78,
   "id": "0b3e403d",
   "metadata": {},
   "outputs": [
    {
     "name": "stdout",
     "output_type": "stream",
     "text": [
      "<class 'str'>\n"
     ]
    }
   ],
   "source": [
    "print(type('asdf'))"
   ]
  },
  {
   "cell_type": "code",
   "execution_count": 6,
   "id": "50a2d697",
   "metadata": {},
   "outputs": [],
   "source": [
    "import utils as ut"
   ]
  },
  {
   "cell_type": "code",
   "execution_count": 41,
   "id": "bda99828",
   "metadata": {},
   "outputs": [],
   "source": [
    "import mrs3 as mr\n",
    "\n"
   ]
  },
  {
   "cell_type": "code",
   "execution_count": 66,
   "id": "5e7c5db4",
   "metadata": {},
   "outputs": [],
   "source": [
    "l = mr._select_multiple_polygon_roi('Lenna_(test_image).png')"
   ]
  },
  {
   "cell_type": "code",
   "execution_count": 67,
   "id": "3a65782d",
   "metadata": {},
   "outputs": [
    {
     "name": "stdout",
     "output_type": "stream",
     "text": [
      "3\n"
     ]
    }
   ],
   "source": [
    "print(len(l))"
   ]
  },
  {
   "cell_type": "code",
   "execution_count": 68,
   "id": "3336ea9d",
   "metadata": {},
   "outputs": [
    {
     "name": "stdout",
     "output_type": "stream",
     "text": [
      "(123, 461, 137, 367)\n",
      "(40, 153, 64, 273)\n",
      "(300, 473, 25, 141)\n"
     ]
    }
   ],
   "source": [
    "for item in l:\n",
    "    cv2.imshow('asdf', item[0])\n",
    "    cv2.imshow('qwer', item[1])\n",
    "    print(item[2])\n",
    "    cv2.waitKey(0)\n",
    "    cv2.destroyAllWindows()"
   ]
  },
  {
   "cell_type": "code",
   "execution_count": 3,
   "id": "cbe387f3",
   "metadata": {},
   "outputs": [
    {
     "name": "stdout",
     "output_type": "stream",
     "text": [
      "original file: 864398\n",
      "downscaled filesize: 219310\n",
      "roi filesize: 143681\n",
      "roi bin filesize: 1614\n",
      "config filesize: 152\n",
      "compression ratio: 0.42197807028706685\n"
     ]
    }
   ],
   "source": [
    "mr.compress_img_mult_tgs('sample-images-png/1920x1080.png', 'results', 4, 0)"
   ]
  },
  {
   "cell_type": "code",
   "execution_count": 4,
   "id": "495ebe3d",
   "metadata": {},
   "outputs": [],
   "source": [
    "mr.restore_img_mult_tgs('results', mr.EDSR, 'results2')"
   ]
  },
  {
   "cell_type": "code",
   "execution_count": 85,
   "id": "779a23fb",
   "metadata": {},
   "outputs": [
    {
     "name": "stdout",
     "output_type": "stream",
     "text": [
      "(297, 277, 3)\n"
     ]
    }
   ],
   "source": [
    "mask_test = cv2.imread('results/bin0.png')\n",
    "print(mask_test.shape)\n",
    "cv2.imshow('qwer', mask_test)\n",
    "cv2.waitKey(0)\n",
    "cv2.destroyAllWindows()"
   ]
  },
  {
   "cell_type": "code",
   "execution_count": 80,
   "id": "b340e6e0",
   "metadata": {},
   "outputs": [
    {
     "name": "stdout",
     "output_type": "stream",
     "text": [
      "(297, 277, 3)\n",
      "uint8\n"
     ]
    }
   ],
   "source": [
    "print(mask_test.shape)\n",
    "print(mask_test.dtype)\n",
    "cv2.imshow('test', mask_test)\n",
    "cv2.waitKey(0)\n",
    "cv2.destroyAllWindows()"
   ]
  },
  {
   "cell_type": "code",
   "execution_count": null,
   "id": "d32382bf",
   "metadata": {},
   "outputs": [],
   "source": [
    "contours, _ = cv2.findContours(mask_uint8, cv2.RETR_EXTERNAL, cv2.CHAIN_APPROX_SIMPLE)\n",
    "# print(contours)\n",
    "print(contours[0].shape)\n",
    "print(contours[0].reshape(-1, 2))\n",
    "print(contours[0].reshape(-1, 2).shape)"
   ]
  },
  {
   "cell_type": "code",
   "execution_count": 57,
   "id": "1b14d77a",
   "metadata": {},
   "outputs": [],
   "source": [
    "mr.restore_img_mult_tgs('results', mr.EDSR, 'results2')"
   ]
  },
  {
   "cell_type": "code",
   "execution_count": 89,
   "id": "ad6c465e",
   "metadata": {},
   "outputs": [
    {
     "name": "stdout",
     "output_type": "stream",
     "text": [
      "(297, 277, 3)\n",
      "(297, 277)\n",
      "(297, 277)\n"
     ]
    }
   ],
   "source": [
    "test = cv2.imread('results/bin0.png')\n",
    "gray_img = cv2.cvtColor(test, cv2.COLOR_BGR2GRAY)\n",
    "_, binary_img_255 = cv2.threshold(gray_img, 127, 255, cv2.THRESH_BINARY)\n",
    "\n",
    "print(test.shape)\n",
    "print(gray_img.shape)\n",
    "print(binary_img_255.shape)\n",
    "\n"
   ]
  },
  {
   "cell_type": "code",
   "execution_count": 90,
   "id": "ceabbbf0",
   "metadata": {},
   "outputs": [
    {
     "name": "stdout",
     "output_type": "stream",
     "text": [
      "10\n",
      "11\n",
      "12\n",
      "13\n",
      "14\n",
      "15\n",
      "16\n",
      "17\n",
      "18\n",
      "19\n"
     ]
    }
   ],
   "source": [
    "for i in range(10,20):\n",
    "    print(i)"
   ]
  },
  {
   "cell_type": "markdown",
   "id": "3dab9e51",
   "metadata": {},
   "source": [
    "# 블렌딩 예제"
   ]
  },
  {
   "cell_type": "markdown",
   "id": "46a257d2",
   "metadata": {},
   "source": [
    "1. 알파 블렌딩 (Alpha Blending)\n",
    "알파 블렌딩은 두 이미지에 가중치를 주어 합성하는 가장 기본적인 방법입니다. 단순 덧셈과 달리 오버플로우 문제를 방지하고 자연스러운 합성이 가능합니다."
   ]
  },
  {
   "cell_type": "code",
   "execution_count": null,
   "id": "cb49ebdd",
   "metadata": {},
   "outputs": [],
   "source": [
    "import cv2\n",
    "import numpy as np\n",
    "\n",
    "# 이미지 로드\n",
    "img1 = cv2.imread('image1.jpg')\n",
    "img2 = cv2.imread('image2.jpg')\n",
    "\n",
    "# 두 이미지의 크기가 같아야 함\n",
    "img2 = cv2.resize(img2, (img1.shape[1], img1.shape[0]))\n",
    "\n",
    "# 방법 1: 직접 구현\n",
    "alpha = 0.5\n",
    "blended1 = (img1 * alpha) + (img2 * (1-alpha))\n",
    "blended1 = blended1.astype(np.uint8)  # 소수점 제거\n",
    "\n",
    "# 방법 2: OpenCV 함수 사용\n",
    "blended2 = cv2.addWeighted(img1, alpha, img2, (1-alpha), 0)\n",
    "\n",
    "# 결과 출력\n",
    "cv2.imshow('Blended Image', blended2)\n",
    "cv2.waitKey(0)\n"
   ]
  },
  {
   "cell_type": "markdown",
   "id": "246635a7",
   "metadata": {},
   "source": [
    "2. 이미지 피라미드를 이용한 블렌딩\n",
    "가우시안 피라미드와 라플라시안 피라미드를 사용하여 두 이미지의 경계를 더 자연스럽게 합성할 수 있습니다."
   ]
  },
  {
   "cell_type": "code",
   "execution_count": null,
   "id": "db8e0ad7",
   "metadata": {},
   "outputs": [],
   "source": [
    "import cv2\n",
    "import numpy as np\n",
    "\n",
    "# 이미지 로드 및 리사이징\n",
    "A = cv2.imread('image1.jpg')\n",
    "B = cv2.imread('image2.jpg')\n",
    "A = cv2.resize(A, (512, 512))\n",
    "B = cv2.resize(B, (512, 512))\n",
    "\n",
    "# 두 이미지를 합칠 마스크 생성 (왼쪽: A, 오른쪽: B)\n",
    "rows, cols, _ = A.shape\n",
    "mask = np.zeros((rows, cols, 3), dtype='uint8')\n",
    "mask[:, 0:cols//2] = 255\n",
    "\n",
    "# 가우시안 피라미드 생성\n",
    "G = A.copy()\n",
    "gpA = [G]\n",
    "for i in range(6):\n",
    "    G = cv2.pyrDown(G)\n",
    "    gpA.append(G)\n",
    "\n",
    "G = B.copy()\n",
    "gpB = [G]\n",
    "for i in range(6):\n",
    "    G = cv2.pyrDown(G)\n",
    "    gpB.append(G)\n",
    "\n",
    "# 라플라시안 피라미드 생성\n",
    "lpA = [gpA[5]]\n",
    "for i in range(5, 0, -1):\n",
    "    GE = cv2.pyrUp(gpA[i])\n",
    "    L = cv2.subtract(gpA[i-1], GE)\n",
    "    lpA.append(L)\n",
    "\n",
    "lpB = [gpB[5]]\n",
    "for i in range(5, 0, -1):\n",
    "    GE = cv2.pyrUp(gpB[i])\n",
    "    L = cv2.subtract(gpB[i-1], GE)\n",
    "    lpB.append(L)\n",
    "\n",
    "# 라플라시안 피라미드 합성\n",
    "LS = []\n",
    "for la, lb in zip(lpA, lpB):\n",
    "    rows, cols, _ = la.shape\n",
    "    ls = np.hstack((la[:, 0:cols//2], lb[:, cols//2:]))\n",
    "    LS.append(ls)\n",
    "\n",
    "# 이미지 재구성\n",
    "ls_ = LS[0]\n",
    "for i in range(1, 6):\n",
    "    ls_ = cv2.pyrUp(ls_)\n",
    "    ls_ = cv2.add(ls_, LS[i])\n",
    "\n",
    "# 결과 출력\n",
    "cv2.imshow(\"Pyramid Blended\", ls_)\n",
    "cv2.waitKey(0)\n"
   ]
  },
  {
   "cell_type": "markdown",
   "id": "2988aa99",
   "metadata": {},
   "source": [
    "3. 시멀리스 클로닝 (Seamless Cloning)\n",
    "OpenCV의 seamlessClone 함수를 사용하면 두 이미지의 경계를 매우 자연스럽게 합성할 수 있습니다. 이 방법은 2023년 5월 3일 업데이트된 OpenCV 문서에서도 다루고 있습니다."
   ]
  },
  {
   "cell_type": "code",
   "execution_count": null,
   "id": "82d5eaaf",
   "metadata": {},
   "outputs": [],
   "source": [
    "import cv2\n",
    "import numpy as np\n",
    "\n",
    "# 이미지 로드\n",
    "src = cv2.imread('source.jpg')  # 합성할 객체가 있는 이미지\n",
    "dst = cv2.imread('destination.jpg')  # 배경 이미지\n",
    "\n",
    "# 소스 이미지 크기 조정 (필요시)\n",
    "src = cv2.resize(src, (300, 300))\n",
    "\n",
    "# 마스크 생성 (소스 이미지에서 합성할 영역)\n",
    "mask = np.zeros(src.shape, src.dtype)\n",
    "poly = np.array([[50, 50], [250, 50], [250, 250], [50, 250]], np.int32)\n",
    "cv2.fillPoly(mask, [poly], (255, 255, 255))\n",
    "\n",
    "# 합성 위치 (배경 이미지 내 중심점)\n",
    "center = (dst.shape[1]//2, dst.shape[0]//2)\n",
    "\n",
    "# 시멀리스 클로닝 적용\n",
    "# 1. 일반 클로닝\n",
    "normal_clone = cv2.seamlessClone(src, dst, mask, center, cv2.NORMAL_CLONE)\n",
    "\n",
    "# 2. 혼합 클로닝\n",
    "mixed_clone = cv2.seamlessClone(src, dst, mask, center, cv2.MIXED_CLONE)\n",
    "\n",
    "# 결과 출력\n",
    "cv2.imshow(\"Normal Clone\", normal_clone)\n",
    "cv2.imshow(\"Mixed Clone\", mixed_clone)\n",
    "cv2.waitKey(0)\n"
   ]
  },
  {
   "cell_type": "markdown",
   "id": "d14c951a",
   "metadata": {},
   "source": [
    "4. 투명 PNG 오버레이\n",
    "알파 채널이 있는 PNG 이미지를 다른 이미지 위에 자연스럽게 오버레이하는 방법입니다."
   ]
  },
  {
   "cell_type": "code",
   "execution_count": null,
   "id": "bc692a02",
   "metadata": {},
   "outputs": [],
   "source": [
    "import cv2\n",
    "import numpy as np\n",
    "\n",
    "# 배경 이미지 로드\n",
    "background = cv2.imread('background.jpg')\n",
    "\n",
    "# 알파 채널이 있는 전경 이미지 로드\n",
    "foreground = cv2.imread('foreground.png', cv2.IMREAD_UNCHANGED)\n",
    "\n",
    "# 크기 조정 (필요시)\n",
    "foreground = cv2.resize(foreground, (300, 300))\n",
    "\n",
    "# 알파 채널 분리\n",
    "alpha_channel = foreground[:, :, 3] / 255.0\n",
    "alpha_channel = np.repeat(alpha_channel[:, :, np.newaxis], 3, axis=2)\n",
    "\n",
    "# 전경과 배경 합성\n",
    "foreground_rgb = foreground[:, :, :3]\n",
    "background_roi = background[0:foreground.shape[0], 0:foreground.shape[1]]\n",
    "\n",
    "# 알파 블렌딩 공식 적용\n",
    "blended = foreground_rgb * alpha_channel + background_roi * (1 - alpha_channel)\n",
    "blended = blended.astype(np.uint8)\n",
    "\n",
    "# 결과 이미지에 합성 결과 삽입\n",
    "result = background.copy()\n",
    "result[0:foreground.shape[0], 0:foreground.shape[1]] = blended\n",
    "\n",
    "# 결과 출력\n",
    "cv2.imshow(\"Alpha Blended Overlay\", result)\n",
    "cv2.waitKey(0)\n"
   ]
  },
  {
   "cell_type": "code",
   "execution_count": 14,
   "id": "aeaab810",
   "metadata": {},
   "outputs": [
    {
     "data": {
      "text/plain": [
       "array([3.8, 4.8, 6.6, 8.4])"
      ]
     },
     "execution_count": 14,
     "metadata": {},
     "output_type": "execute_result"
    }
   ],
   "source": [
    "A = np.array([3,4,5,6])\n",
    "B = np.array([4,5,7,9])\n",
    "A * 0.2 + B * 0.8"
   ]
  },
  {
   "cell_type": "code",
   "execution_count": 12,
   "id": "7fe31a9a",
   "metadata": {},
   "outputs": [
    {
     "data": {
      "text/plain": [
       "(3,)"
      ]
     },
     "execution_count": 12,
     "metadata": {},
     "output_type": "execute_result"
    }
   ],
   "source": [
    "img = cv2.imread(lenna_path)\n",
    "\n",
    "img[0][0].shape"
   ]
  },
  {
   "cell_type": "code",
   "execution_count": 20,
   "id": "1dbbce29",
   "metadata": {},
   "outputs": [
    {
     "name": "stdout",
     "output_type": "stream",
     "text": [
      "[ True False False  True]\n",
      "[255   0   0 255]\n"
     ]
    }
   ],
   "source": [
    "bool_ar = np.array([True, False, False, True])\n",
    "print(bool_ar)\n",
    "\n",
    "bin_ar = bool_ar.astype(np.uint8) * 255\n",
    "print(bin_ar)"
   ]
  },
  {
   "cell_type": "code",
   "execution_count": 6,
   "id": "dc1dbeba",
   "metadata": {},
   "outputs": [],
   "source": [
    "roi_mask = cv2.imread('results/bin0.png')\n",
    "\n",
    "bool_roi_mask = np.all(roi_mask != [0, 0, 0], axis=2)\n",
    "bin_roi_mask = bool_roi_mask.astype(np.uint8) * 255"
   ]
  },
  {
   "cell_type": "code",
   "execution_count": 26,
   "id": "e08f0475",
   "metadata": {},
   "outputs": [
    {
     "name": "stdout",
     "output_type": "stream",
     "text": [
      "(297, 277)\n",
      "(297, 277)\n"
     ]
    }
   ],
   "source": [
    "print(bool_roi_mask.shape)\n",
    "print(bin_roi_mask.shape)"
   ]
  },
  {
   "cell_type": "code",
   "execution_count": 27,
   "id": "1dafd28e",
   "metadata": {},
   "outputs": [],
   "source": [
    "cv2.imshow('bin', bin_roi_mask)\n",
    "cv2.waitKey(0)\n",
    "cv2.destroyAllWindows()"
   ]
  },
  {
   "cell_type": "code",
   "execution_count": 7,
   "id": "f4cbd513",
   "metadata": {},
   "outputs": [
    {
     "name": "stdout",
     "output_type": "stream",
     "text": [
      "(282, 1, 2)\n"
     ]
    }
   ],
   "source": [
    "mask = cv2.imread('results/bin0.png')\n",
    "mask = np.all(mask != [0, 0 ,0], axis=2).astype(np.uint8) * 255\n",
    "contours, _ = cv2.findContours(mask, cv2.RETR_EXTERNAL, cv2.CHAIN_APPROX_SIMPLE)\n",
    "print(contours[0].shape)"
   ]
  },
  {
   "cell_type": "code",
   "execution_count": 22,
   "id": "15bc152e",
   "metadata": {},
   "outputs": [
    {
     "name": "stdout",
     "output_type": "stream",
     "text": [
      "<class 'numpy.ndarray'>\n",
      "(500, 500)\n"
     ]
    },
    {
     "data": {
      "image/png": "[encoded data removed]",
      "text/plain": [
       "<Figure size 1200x400 with 3 Axes>"
      ]
     },
     "metadata": {},
     "output_type": "display_data"
    }
   ],
   "source": [
    "import numpy as np\n",
    "import cv2\n",
    "import matplotlib.pyplot as plt\n",
    "\n",
    "def blend_images_with_contour_distance(A, B, contour):\n",
    "    \"\"\"\n",
    "    A, B: 두 이미지 (같은 크기, 3채널, uint8)\n",
    "    contour: 다각형 외곽선 (Nx1x2 형태의 numpy 배열)\n",
    "    max_distance: 거리 임계값 (이 거리 이상이면 A 가중치 0, B 가중치 1)\n",
    "    \n",
    "    contour 외부는 A로 채우고, contour 내부는 contour로부터의 거리 기반 알파 블렌딩\n",
    "    \"\"\"\n",
    "    # 이미지 크기\n",
    "    h, w = A.shape[:2]\n",
    "    \n",
    "    # 빈 마스크 생성 (contour 내부 255, 외부 0)\n",
    "    mask = np.zeros((h, w), dtype=np.uint8)\n",
    "    cv2.drawContours(mask, [contour], -1, 255, thickness=-1)\n",
    "    \n",
    "    # contour 내부 픽셀에 대해 거리 변환 (contour 경계까지 거리)\n",
    "    dist_transform = cv2.distanceTransform(mask, distanceType=cv2.DIST_L2, maskSize=3)\n",
    "    max_distance = np.max(dist_transform) * .4\n",
    "    # 거리 임계값 이상인 부분은 B만 사용\n",
    "    # 거리 임계값 이하인 부분은 거리 비례 가중치 계산\n",
    "    \n",
    "    # 거리 최대값으로 정규화 (0~1)\n",
    "    # alpha = np.clip(1 - dist_transform / max_distance, 0, 1)\n",
    "    # alpha = inter.np_linear(1 - dist_transform / max_distance, 0, 1)\n",
    "    # alpha = inter.np_hermit_3(1 - dist_transform / max_distance, 0, 1)\n",
    "    # alpha = inter.np_hermit_5(1 - dist_transform / max_distance, 0, 1)\n",
    "    alpha = inter.np_sinusoidal(1 - dist_transform / max_distance, 0, 1)\n",
    "\n",
    "    print(type(alpha))\n",
    "    print(alpha.shape)\n",
    "    \n",
    "    # contour 외부는 alpha=1 (A만 사용)\n",
    "    alpha[mask == 0] = 1\n",
    "    \n",
    "    # alpha는 A의 가중치, (1-alpha)는 B의 가중치\n",
    "    alpha_3ch = np.repeat(alpha[:, :, np.newaxis], 3, axis=2)\n",
    "    \n",
    "    # float32로 변환하여 가중치 곱셈\n",
    "    A_f = A.astype(np.float32)\n",
    "    B_f = B.astype(np.float32)\n",
    "    \n",
    "    blended = A_f * alpha_3ch + B_f * (1 - alpha_3ch)\n",
    "    blended = np.clip(blended, 0, 255).astype(np.uint8)\n",
    "    \n",
    "    return blended\n",
    "\n",
    "# 테스트용 임의 이미지 생성\n",
    "h, w = 500, 500\n",
    "A = np.full((h, w, 3), fill_value=255, dtype=np.uint8)  # 흰색 배경\n",
    "B = np.full((h, w, 3), fill_value=[0, 0, 255], dtype=np.uint8)  # 파란색 배경\n",
    "\n",
    "# 다각형 contour 생성 (사각형)\n",
    "# contour = np.array([[[50, 50]], [[250, 50]], [[250, 250]], [[50, 250]]], dtype=np.int32)\n",
    "contour = contours[0]\n",
    "# 최대 거리 임계값\n",
    "max_dist = 20\n",
    "\n",
    "# 함수 실행\n",
    "result = blend_images_with_contour_distance(A, B, contour)\n",
    "B[0:400, 0:400] = mr.blend_images_with_contour_distance(A[0:400, 0:400], B[0:400, 0:400], contour)\n",
    "\n",
    "# result = mr.blend_images_with_contour_distance(A, B, contour, blend=mr.BLEND_SINUSOIDAL)\n",
    "\n",
    "# 결과 시각화\n",
    "plt.figure(figsize=(12,4))\n",
    "plt.subplot(1,3,1)\n",
    "plt.title('Image A (Outside)')\n",
    "plt.imshow(cv2.cvtColor(A, cv2.COLOR_BGR2RGB))\n",
    "plt.axis('off')\n",
    "\n",
    "plt.subplot(1,3,2)\n",
    "plt.title('Image B (Inside)')\n",
    "plt.imshow(cv2.cvtColor(B, cv2.COLOR_BGR2RGB))\n",
    "plt.axis('off')\n",
    "\n",
    "plt.subplot(1,3,3)\n",
    "plt.title('Blended Result')\n",
    "plt.imshow(cv2.cvtColor(result, cv2.COLOR_BGR2RGB))\n",
    "plt.axis('off')\n",
    "\n",
    "plt.show()\n"
   ]
  },
  {
   "cell_type": "code",
   "execution_count": 54,
   "id": "09016059",
   "metadata": {},
   "outputs": [
    {
     "data": {
      "text/plain": [
       "array([ True,  True,  True])"
      ]
     },
     "execution_count": 54,
     "metadata": {},
     "output_type": "execute_result"
    }
   ],
   "source": [
    "B[0][0] == result[0][0]"
   ]
  },
  {
   "cell_type": "code",
   "execution_count": 23,
   "id": "883466a0",
   "metadata": {},
   "outputs": [
    {
     "name": "stdout",
     "output_type": "stream",
     "text": [
      "160000\n",
      "0\n"
     ]
    }
   ],
   "source": [
    "same = 0\n",
    "diff = 0\n",
    "for i in range(400):\n",
    "    for j in range(400):\n",
    "        if np.all(B[i][j] == result[i][j]):\n",
    "            same += 1\n",
    "        else:\n",
    "            diff += 1\n",
    "print(same)\n",
    "print(diff)\n"
   ]
  },
  {
   "cell_type": "code",
   "execution_count": null,
   "id": "e80bb6ae",
   "metadata": {},
   "outputs": [
    {
     "name": "stdout",
     "output_type": "stream",
     "text": [
      "[0]\n"
     ]
    }
   ],
   "source": [
    "A = np.array([-0.3])\n",
    "B = inter.np_unit_step(A)\n",
    "print(B)"
   ]
  },
  {
   "cell_type": "code",
   "execution_count": 2,
   "id": "a0f7dcab",
   "metadata": {},
   "outputs": [],
   "source": [
    "def foo():\n",
    "    pass\n",
    "\n",
    "\n",
    "foo()\n",
    "\n",
    "\n",
    "def foo():\n",
    "    print('asdfds')\n",
    "\n"
   ]
  },
  {
   "cell_type": "code",
   "execution_count": 7,
   "id": "6b15adad",
   "metadata": {},
   "outputs": [
    {
     "data": {
      "text/plain": [
       "1.6"
      ]
     },
     "execution_count": 7,
     "metadata": {},
     "output_type": "execute_result"
    }
   ],
   "source": [
    "step = inter.step(1.6,2)\n",
    "\n",
    "step(3)"
   ]
  },
  {
   "cell_type": "code",
   "execution_count": 9,
   "id": "5f4f69ea",
   "metadata": {},
   "outputs": [
    {
     "data": {
      "text/plain": [
       "5.0"
      ]
     },
     "execution_count": 9,
     "metadata": {},
     "output_type": "execute_result"
    }
   ],
   "source": [
    "np.clip(4, 5, 5.6)"
   ]
  },
  {
   "cell_type": "code",
   "execution_count": 11,
   "id": "8e1850fc",
   "metadata": {},
   "outputs": [
    {
     "name": "stdout",
     "output_type": "stream",
     "text": [
      "3567\n",
      "-435\n"
     ]
    }
   ],
   "source": [
    "ar = np.array([3,5,6,7,8,45,3567,-435])\n",
    "\n",
    "print(max(ar))\n",
    "print(min(ar))"
   ]
  },
  {
   "cell_type": "code",
   "execution_count": null,
   "id": "7eb6d583",
   "metadata": {},
   "outputs": [],
   "source": []
  }
 ],
 "metadata": {
  "kernelspec": {
   "display_name": "mrs3",
   "language": "python",
   "name": "python3"
  },
  "language_info": {
   "codemirror_mode": {
    "name": "ipython",
    "version": 3
   },
   "file_extension": ".py",
   "mimetype": "text/x-python",
   "name": "python",
   "nbconvert_exporter": "python",
   "pygments_lexer": "ipython3",
   "version": "3.11.11"
  }
 },
 "nbformat": 4,
 "nbformat_minor": 5
}
